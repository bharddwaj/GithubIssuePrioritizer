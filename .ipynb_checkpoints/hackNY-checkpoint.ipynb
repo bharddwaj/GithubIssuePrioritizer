{
 "cells": [
  {
   "cell_type": "code",
   "execution_count": 1,
   "metadata": {},
   "outputs": [
    {
     "name": "stdout",
     "output_type": "stream",
     "text": [
      "Hello World\n"
     ]
    }
   ],
   "source": [
    "print(\"Hello World\")\n",
    "import requests\n",
    "import json\n",
    "API_KEY = str(\"mFbi6aZ8dE6a5j3dKkZ3m8BXFsBXINFX\")\n",
    "req = requests.get(\"http://api.giphy.com/v1/gifs/search?\",{\"api_key\":API_KEY,\"q\":\"cheeseburgers\"})"
   ]
  },
  {
   "cell_type": "code",
   "execution_count": 8,
   "metadata": {},
   "outputs": [
    {
     "data": {
      "text/plain": [
       "{'type': 'gif',\n",
       " 'id': 'ttQ5Jj9Lhn03e',\n",
       " 'slug': 'xpost-burger-rburgers-ttQ5Jj9Lhn03e',\n",
       " 'url': 'https://giphy.com/gifs/xpost-burger-rburgers-ttQ5Jj9Lhn03e',\n",
       " 'bitly_gif_url': 'https://gph.is/25HJMxt',\n",
       " 'bitly_url': 'https://gph.is/25HJMxt',\n",
       " 'embed_url': 'https://giphy.com/embed/ttQ5Jj9Lhn03e',\n",
       " 'username': '',\n",
       " 'source': 'https://www.reddit.com/r/Cinemagraphs/comments/4cbj22/tombstone_burger_xpost_rburgers/',\n",
       " 'rating': 'pg',\n",
       " 'content_url': '',\n",
       " 'source_tld': 'www.reddit.com',\n",
       " 'source_post_url': 'https://www.reddit.com/r/Cinemagraphs/comments/4cbj22/tombstone_burger_xpost_rburgers/',\n",
       " 'is_sticker': 0,\n",
       " 'import_datetime': '2016-04-05 01:42:03',\n",
       " 'trending_datetime': '0000-00-00 00:00:00',\n",
       " 'images': {'fixed_height_still': {'url': 'https://media2.giphy.com/media/ttQ5Jj9Lhn03e/200_s.gif?cid=eee41affa83edb6db187d2ae4d0af2bcac3a05c042a748a6&rid=200_s.gif',\n",
       "   'width': '379',\n",
       "   'height': '200',\n",
       "   'size': '34516'},\n",
       "  'original_still': {'url': 'https://media2.giphy.com/media/ttQ5Jj9Lhn03e/giphy_s.gif?cid=eee41affa83edb6db187d2ae4d0af2bcac3a05c042a748a6&rid=giphy_s.gif',\n",
       "   'width': '480',\n",
       "   'height': '253',\n",
       "   'size': '87147'},\n",
       "  'fixed_width': {'url': 'https://media2.giphy.com/media/ttQ5Jj9Lhn03e/200w.gif?cid=eee41affa83edb6db187d2ae4d0af2bcac3a05c042a748a6&rid=200w.gif',\n",
       "   'width': '200',\n",
       "   'height': '105',\n",
       "   'size': '29499',\n",
       "   'mp4': 'https://media2.giphy.com/media/ttQ5Jj9Lhn03e/200w.mp4?cid=eee41affa83edb6db187d2ae4d0af2bcac3a05c042a748a6&rid=200w.mp4',\n",
       "   'mp4_size': '13735',\n",
       "   'webp': 'https://media2.giphy.com/media/ttQ5Jj9Lhn03e/200w.webp?cid=eee41affa83edb6db187d2ae4d0af2bcac3a05c042a748a6&rid=200w.webp',\n",
       "   'webp_size': '23482'},\n",
       "  'fixed_height_small_still': {'url': 'https://media2.giphy.com/media/ttQ5Jj9Lhn03e/100_s.gif?cid=eee41affa83edb6db187d2ae4d0af2bcac3a05c042a748a6&rid=100_s.gif',\n",
       "   'width': '190',\n",
       "   'height': '100',\n",
       "   'size': '13462'},\n",
       "  'fixed_height_downsampled': {'url': 'https://media2.giphy.com/media/ttQ5Jj9Lhn03e/200_d.gif?cid=eee41affa83edb6db187d2ae4d0af2bcac3a05c042a748a6&rid=200_d.gif',\n",
       "   'width': '379',\n",
       "   'height': '200',\n",
       "   'size': '59833',\n",
       "   'webp': 'https://media2.giphy.com/media/ttQ5Jj9Lhn03e/200_d.webp?cid=eee41affa83edb6db187d2ae4d0af2bcac3a05c042a748a6&rid=200_d.webp',\n",
       "   'webp_size': '44562'},\n",
       "  'preview': {'width': '411',\n",
       "   'height': '216',\n",
       "   'mp4': 'https://media2.giphy.com/media/ttQ5Jj9Lhn03e/giphy-preview.mp4?cid=eee41affa83edb6db187d2ae4d0af2bcac3a05c042a748a6&rid=giphy-preview.mp4',\n",
       "   'mp4_size': '27138'},\n",
       "  'fixed_height_small': {'url': 'https://media2.giphy.com/media/ttQ5Jj9Lhn03e/100.gif?cid=eee41affa83edb6db187d2ae4d0af2bcac3a05c042a748a6&rid=100.gif',\n",
       "   'width': '190',\n",
       "   'height': '100',\n",
       "   'size': '30434',\n",
       "   'mp4': 'https://media2.giphy.com/media/ttQ5Jj9Lhn03e/100.mp4?cid=eee41affa83edb6db187d2ae4d0af2bcac3a05c042a748a6&rid=100.mp4',\n",
       "   'mp4_size': '12866',\n",
       "   'webp': 'https://media2.giphy.com/media/ttQ5Jj9Lhn03e/100.webp?cid=eee41affa83edb6db187d2ae4d0af2bcac3a05c042a748a6&rid=100.webp',\n",
       "   'webp_size': '21410'},\n",
       "  'downsized_still': {'url': 'https://media2.giphy.com/media/ttQ5Jj9Lhn03e/giphy_s.gif?cid=eee41affa83edb6db187d2ae4d0af2bcac3a05c042a748a6&rid=giphy_s.gif',\n",
       "   'width': '480',\n",
       "   'height': '253',\n",
       "   'size': '87147'},\n",
       "  'downsized': {'url': 'https://media2.giphy.com/media/ttQ5Jj9Lhn03e/giphy.gif?cid=eee41affa83edb6db187d2ae4d0af2bcac3a05c042a748a6&rid=giphy.gif',\n",
       "   'width': '480',\n",
       "   'height': '253',\n",
       "   'size': '157787'},\n",
       "  'downsized_large': {'url': 'https://media2.giphy.com/media/ttQ5Jj9Lhn03e/giphy.gif?cid=eee41affa83edb6db187d2ae4d0af2bcac3a05c042a748a6&rid=giphy.gif',\n",
       "   'width': '480',\n",
       "   'height': '253',\n",
       "   'size': '157787'},\n",
       "  'fixed_width_small_still': {'url': 'https://media2.giphy.com/media/ttQ5Jj9Lhn03e/100w_s.gif?cid=eee41affa83edb6db187d2ae4d0af2bcac3a05c042a748a6&rid=100w_s.gif',\n",
       "   'width': '100',\n",
       "   'height': '53',\n",
       "   'size': '4608'},\n",
       "  'preview_webp': {'url': 'https://media2.giphy.com/media/ttQ5Jj9Lhn03e/giphy-preview.webp?cid=eee41affa83edb6db187d2ae4d0af2bcac3a05c042a748a6&rid=giphy-preview.webp',\n",
       "   'width': '398',\n",
       "   'height': '210',\n",
       "   'size': '44218'},\n",
       "  'fixed_width_still': {'url': 'https://media2.giphy.com/media/ttQ5Jj9Lhn03e/200w_s.gif?cid=eee41affa83edb6db187d2ae4d0af2bcac3a05c042a748a6&rid=200w_s.gif',\n",
       "   'width': '200',\n",
       "   'height': '105',\n",
       "   'size': '14567'},\n",
       "  'fixed_width_small': {'url': 'https://media2.giphy.com/media/ttQ5Jj9Lhn03e/100w.gif?cid=eee41affa83edb6db187d2ae4d0af2bcac3a05c042a748a6&rid=100w.gif',\n",
       "   'width': '100',\n",
       "   'height': '53',\n",
       "   'size': '10782',\n",
       "   'mp4': 'https://media2.giphy.com/media/ttQ5Jj9Lhn03e/100w.mp4?cid=eee41affa83edb6db187d2ae4d0af2bcac3a05c042a748a6&rid=100w.mp4',\n",
       "   'mp4_size': '6226',\n",
       "   'webp': 'https://media2.giphy.com/media/ttQ5Jj9Lhn03e/100w.webp?cid=eee41affa83edb6db187d2ae4d0af2bcac3a05c042a748a6&rid=100w.webp',\n",
       "   'webp_size': '9632'},\n",
       "  'downsized_small': {'width': '480',\n",
       "   'height': '252',\n",
       "   'mp4': 'https://media2.giphy.com/media/ttQ5Jj9Lhn03e/giphy-downsized-small.mp4?cid=eee41affa83edb6db187d2ae4d0af2bcac3a05c042a748a6&rid=giphy-downsized-small.mp4',\n",
       "   'mp4_size': '67040'},\n",
       "  'fixed_width_downsampled': {'url': 'https://media2.giphy.com/media/ttQ5Jj9Lhn03e/200w_d.gif?cid=eee41affa83edb6db187d2ae4d0af2bcac3a05c042a748a6&rid=200w_d.gif',\n",
       "   'width': '200',\n",
       "   'height': '105',\n",
       "   'size': '18943',\n",
       "   'webp': 'https://media2.giphy.com/media/ttQ5Jj9Lhn03e/200w_d.webp?cid=eee41affa83edb6db187d2ae4d0af2bcac3a05c042a748a6&rid=200w_d.webp',\n",
       "   'webp_size': '17724'},\n",
       "  'downsized_medium': {'url': 'https://media2.giphy.com/media/ttQ5Jj9Lhn03e/giphy.gif?cid=eee41affa83edb6db187d2ae4d0af2bcac3a05c042a748a6&rid=giphy.gif',\n",
       "   'width': '480',\n",
       "   'height': '253',\n",
       "   'size': '157787'},\n",
       "  'original': {'url': 'https://media2.giphy.com/media/ttQ5Jj9Lhn03e/giphy.gif?cid=eee41affa83edb6db187d2ae4d0af2bcac3a05c042a748a6&rid=giphy.gif',\n",
       "   'width': '480',\n",
       "   'height': '253',\n",
       "   'size': '157787',\n",
       "   'frames': '14',\n",
       "   'mp4': 'https://media2.giphy.com/media/ttQ5Jj9Lhn03e/giphy.mp4?cid=eee41affa83edb6db187d2ae4d0af2bcac3a05c042a748a6&rid=giphy.mp4',\n",
       "   'mp4_size': '57217',\n",
       "   'webp': 'https://media2.giphy.com/media/ttQ5Jj9Lhn03e/giphy.webp?cid=eee41affa83edb6db187d2ae4d0af2bcac3a05c042a748a6&rid=giphy.webp',\n",
       "   'webp_size': '81474',\n",
       "   'hash': '956578e21e77e2ccd7410c76c98d9d39'},\n",
       "  'fixed_height': {'url': 'https://media2.giphy.com/media/ttQ5Jj9Lhn03e/200.gif?cid=eee41affa83edb6db187d2ae4d0af2bcac3a05c042a748a6&rid=200.gif',\n",
       "   'width': '379',\n",
       "   'height': '200',\n",
       "   'size': '82898',\n",
       "   'mp4': 'https://media2.giphy.com/media/ttQ5Jj9Lhn03e/200.mp4?cid=eee41affa83edb6db187d2ae4d0af2bcac3a05c042a748a6&rid=200.mp4',\n",
       "   'mp4_size': '34894',\n",
       "   'webp': 'https://media2.giphy.com/media/ttQ5Jj9Lhn03e/200.webp?cid=eee41affa83edb6db187d2ae4d0af2bcac3a05c042a748a6&rid=200.webp',\n",
       "   'webp_size': '51726'},\n",
       "  'looping': {'mp4': 'https://media2.giphy.com/media/ttQ5Jj9Lhn03e/giphy-loop.mp4?cid=eee41affa83edb6db187d2ae4d0af2bcac3a05c042a748a6&rid=giphy-loop.mp4',\n",
       "   'mp4_size': '640440'},\n",
       "  'original_mp4': {'width': '480',\n",
       "   'height': '252',\n",
       "   'mp4': 'https://media2.giphy.com/media/ttQ5Jj9Lhn03e/giphy.mp4?cid=eee41affa83edb6db187d2ae4d0af2bcac3a05c042a748a6&rid=giphy.mp4',\n",
       "   'mp4_size': '57217'},\n",
       "  'preview_gif': {'url': 'https://media2.giphy.com/media/ttQ5Jj9Lhn03e/giphy-preview.gif?cid=eee41affa83edb6db187d2ae4d0af2bcac3a05c042a748a6&rid=giphy-preview.gif',\n",
       "   'width': '231',\n",
       "   'height': '122',\n",
       "   'size': '48923'},\n",
       "  '480w_still': {'url': 'https://media1.giphy.com/media/ttQ5Jj9Lhn03e/480w_s.jpg?cid=eee41affa83edb6db187d2ae4d0af2bcac3a05c042a748a6&rid=480w_s.jpg',\n",
       "   'width': '480',\n",
       "   'height': '253'}},\n",
       " 'title': 'cheeseburgers GIF',\n",
       " 'analytics': {'onload': {'url': 'https://giphy-analytics.giphy.com/simple_analytics?response_id=a83edb6db187d2ae4d0af2bcac3a05c042a748a6&event_type=GIF_SEARCH&gif_id=ttQ5Jj9Lhn03e&action_type=SEEN'},\n",
       "  'onclick': {'url': 'https://giphy-analytics.giphy.com/simple_analytics?response_id=a83edb6db187d2ae4d0af2bcac3a05c042a748a6&event_type=GIF_SEARCH&gif_id=ttQ5Jj9Lhn03e&action_type=CLICK'},\n",
       "  'onsent': {'url': 'https://giphy-analytics.giphy.com/simple_analytics?response_id=a83edb6db187d2ae4d0af2bcac3a05c042a748a6&event_type=GIF_SEARCH&gif_id=ttQ5Jj9Lhn03e&action_type=SENT'}}}"
      ]
     },
     "execution_count": 8,
     "metadata": {},
     "output_type": "execute_result"
    }
   ],
   "source": [
    "\n",
    "req.json()['data'][0]"
   ]
  },
  {
   "cell_type": "code",
   "execution_count": 12,
   "metadata": {},
   "outputs": [
    {
     "ename": "HTTPError",
     "evalue": "HTTP Error 403: Forbidden",
     "output_type": "error",
     "traceback": [
      "\u001b[0;31m---------------------------------------------------------------------------\u001b[0m",
      "\u001b[0;31mHTTPError\u001b[0m                                 Traceback (most recent call last)",
      "\u001b[0;32m<ipython-input-12-2fc37874f037>\u001b[0m in \u001b[0;36m<module>\u001b[0;34m\u001b[0m\n\u001b[1;32m      1\u001b[0m \u001b[0;32mimport\u001b[0m \u001b[0murllib\u001b[0m\u001b[0;34m.\u001b[0m\u001b[0mrequest\u001b[0m\u001b[0;34m,\u001b[0m\u001b[0mjson\u001b[0m\u001b[0;34m\u001b[0m\u001b[0;34m\u001b[0m\u001b[0m\n\u001b[0;32m----> 2\u001b[0;31m \u001b[0mdata\u001b[0m\u001b[0;34m=\u001b[0m\u001b[0mjson\u001b[0m\u001b[0;34m.\u001b[0m\u001b[0mloads\u001b[0m\u001b[0;34m(\u001b[0m\u001b[0murllib\u001b[0m\u001b[0;34m.\u001b[0m\u001b[0mrequest\u001b[0m\u001b[0;34m.\u001b[0m\u001b[0murlopen\u001b[0m\u001b[0;34m(\u001b[0m\u001b[0;34m\"http://api.giphy.com/v1/gifs/search?q=ryan+gosling&api_key=API_KEY&limit=5\"\u001b[0m\u001b[0;34m)\u001b[0m\u001b[0;34m.\u001b[0m\u001b[0mread\u001b[0m\u001b[0;34m(\u001b[0m\u001b[0;34m)\u001b[0m\u001b[0;34m)\u001b[0m\u001b[0;34m\u001b[0m\u001b[0;34m\u001b[0m\u001b[0m\n\u001b[0m\u001b[1;32m      3\u001b[0m \u001b[0mprint\u001b[0m\u001b[0;34m(\u001b[0m\u001b[0mjson\u001b[0m\u001b[0;34m.\u001b[0m\u001b[0mdumps\u001b[0m\u001b[0;34m(\u001b[0m\u001b[0mdata\u001b[0m\u001b[0;34m,\u001b[0m \u001b[0msort_keys\u001b[0m\u001b[0;34m=\u001b[0m\u001b[0;32mTrue\u001b[0m\u001b[0;34m,\u001b[0m \u001b[0mindent\u001b[0m\u001b[0;34m=\u001b[0m\u001b[0;36m4\u001b[0m\u001b[0;34m)\u001b[0m\u001b[0;34m)\u001b[0m\u001b[0;34m\u001b[0m\u001b[0;34m\u001b[0m\u001b[0m\n",
      "\u001b[0;32m/usr/local/Cellar/python/3.7.2_2/Frameworks/Python.framework/Versions/3.7/lib/python3.7/urllib/request.py\u001b[0m in \u001b[0;36murlopen\u001b[0;34m(url, data, timeout, cafile, capath, cadefault, context)\u001b[0m\n\u001b[1;32m    220\u001b[0m     \u001b[0;32melse\u001b[0m\u001b[0;34m:\u001b[0m\u001b[0;34m\u001b[0m\u001b[0;34m\u001b[0m\u001b[0m\n\u001b[1;32m    221\u001b[0m         \u001b[0mopener\u001b[0m \u001b[0;34m=\u001b[0m \u001b[0m_opener\u001b[0m\u001b[0;34m\u001b[0m\u001b[0;34m\u001b[0m\u001b[0m\n\u001b[0;32m--> 222\u001b[0;31m     \u001b[0;32mreturn\u001b[0m \u001b[0mopener\u001b[0m\u001b[0;34m.\u001b[0m\u001b[0mopen\u001b[0m\u001b[0;34m(\u001b[0m\u001b[0murl\u001b[0m\u001b[0;34m,\u001b[0m \u001b[0mdata\u001b[0m\u001b[0;34m,\u001b[0m \u001b[0mtimeout\u001b[0m\u001b[0;34m)\u001b[0m\u001b[0;34m\u001b[0m\u001b[0;34m\u001b[0m\u001b[0m\n\u001b[0m\u001b[1;32m    223\u001b[0m \u001b[0;34m\u001b[0m\u001b[0m\n\u001b[1;32m    224\u001b[0m \u001b[0;32mdef\u001b[0m \u001b[0minstall_opener\u001b[0m\u001b[0;34m(\u001b[0m\u001b[0mopener\u001b[0m\u001b[0;34m)\u001b[0m\u001b[0;34m:\u001b[0m\u001b[0;34m\u001b[0m\u001b[0;34m\u001b[0m\u001b[0m\n",
      "\u001b[0;32m/usr/local/Cellar/python/3.7.2_2/Frameworks/Python.framework/Versions/3.7/lib/python3.7/urllib/request.py\u001b[0m in \u001b[0;36mopen\u001b[0;34m(self, fullurl, data, timeout)\u001b[0m\n\u001b[1;32m    529\u001b[0m         \u001b[0;32mfor\u001b[0m \u001b[0mprocessor\u001b[0m \u001b[0;32min\u001b[0m \u001b[0mself\u001b[0m\u001b[0;34m.\u001b[0m\u001b[0mprocess_response\u001b[0m\u001b[0;34m.\u001b[0m\u001b[0mget\u001b[0m\u001b[0;34m(\u001b[0m\u001b[0mprotocol\u001b[0m\u001b[0;34m,\u001b[0m \u001b[0;34m[\u001b[0m\u001b[0;34m]\u001b[0m\u001b[0;34m)\u001b[0m\u001b[0;34m:\u001b[0m\u001b[0;34m\u001b[0m\u001b[0;34m\u001b[0m\u001b[0m\n\u001b[1;32m    530\u001b[0m             \u001b[0mmeth\u001b[0m \u001b[0;34m=\u001b[0m \u001b[0mgetattr\u001b[0m\u001b[0;34m(\u001b[0m\u001b[0mprocessor\u001b[0m\u001b[0;34m,\u001b[0m \u001b[0mmeth_name\u001b[0m\u001b[0;34m)\u001b[0m\u001b[0;34m\u001b[0m\u001b[0;34m\u001b[0m\u001b[0m\n\u001b[0;32m--> 531\u001b[0;31m             \u001b[0mresponse\u001b[0m \u001b[0;34m=\u001b[0m \u001b[0mmeth\u001b[0m\u001b[0;34m(\u001b[0m\u001b[0mreq\u001b[0m\u001b[0;34m,\u001b[0m \u001b[0mresponse\u001b[0m\u001b[0;34m)\u001b[0m\u001b[0;34m\u001b[0m\u001b[0;34m\u001b[0m\u001b[0m\n\u001b[0m\u001b[1;32m    532\u001b[0m \u001b[0;34m\u001b[0m\u001b[0m\n\u001b[1;32m    533\u001b[0m         \u001b[0;32mreturn\u001b[0m \u001b[0mresponse\u001b[0m\u001b[0;34m\u001b[0m\u001b[0;34m\u001b[0m\u001b[0m\n",
      "\u001b[0;32m/usr/local/Cellar/python/3.7.2_2/Frameworks/Python.framework/Versions/3.7/lib/python3.7/urllib/request.py\u001b[0m in \u001b[0;36mhttp_response\u001b[0;34m(self, request, response)\u001b[0m\n\u001b[1;32m    639\u001b[0m         \u001b[0;32mif\u001b[0m \u001b[0;32mnot\u001b[0m \u001b[0;34m(\u001b[0m\u001b[0;36m200\u001b[0m \u001b[0;34m<=\u001b[0m \u001b[0mcode\u001b[0m \u001b[0;34m<\u001b[0m \u001b[0;36m300\u001b[0m\u001b[0;34m)\u001b[0m\u001b[0;34m:\u001b[0m\u001b[0;34m\u001b[0m\u001b[0;34m\u001b[0m\u001b[0m\n\u001b[1;32m    640\u001b[0m             response = self.parent.error(\n\u001b[0;32m--> 641\u001b[0;31m                 'http', request, response, code, msg, hdrs)\n\u001b[0m\u001b[1;32m    642\u001b[0m \u001b[0;34m\u001b[0m\u001b[0m\n\u001b[1;32m    643\u001b[0m         \u001b[0;32mreturn\u001b[0m \u001b[0mresponse\u001b[0m\u001b[0;34m\u001b[0m\u001b[0;34m\u001b[0m\u001b[0m\n",
      "\u001b[0;32m/usr/local/Cellar/python/3.7.2_2/Frameworks/Python.framework/Versions/3.7/lib/python3.7/urllib/request.py\u001b[0m in \u001b[0;36merror\u001b[0;34m(self, proto, *args)\u001b[0m\n\u001b[1;32m    567\u001b[0m         \u001b[0;32mif\u001b[0m \u001b[0mhttp_err\u001b[0m\u001b[0;34m:\u001b[0m\u001b[0;34m\u001b[0m\u001b[0;34m\u001b[0m\u001b[0m\n\u001b[1;32m    568\u001b[0m             \u001b[0margs\u001b[0m \u001b[0;34m=\u001b[0m \u001b[0;34m(\u001b[0m\u001b[0mdict\u001b[0m\u001b[0;34m,\u001b[0m \u001b[0;34m'default'\u001b[0m\u001b[0;34m,\u001b[0m \u001b[0;34m'http_error_default'\u001b[0m\u001b[0;34m)\u001b[0m \u001b[0;34m+\u001b[0m \u001b[0morig_args\u001b[0m\u001b[0;34m\u001b[0m\u001b[0;34m\u001b[0m\u001b[0m\n\u001b[0;32m--> 569\u001b[0;31m             \u001b[0;32mreturn\u001b[0m \u001b[0mself\u001b[0m\u001b[0;34m.\u001b[0m\u001b[0m_call_chain\u001b[0m\u001b[0;34m(\u001b[0m\u001b[0;34m*\u001b[0m\u001b[0margs\u001b[0m\u001b[0;34m)\u001b[0m\u001b[0;34m\u001b[0m\u001b[0;34m\u001b[0m\u001b[0m\n\u001b[0m\u001b[1;32m    570\u001b[0m \u001b[0;34m\u001b[0m\u001b[0m\n\u001b[1;32m    571\u001b[0m \u001b[0;31m# XXX probably also want an abstract factory that knows when it makes\u001b[0m\u001b[0;34m\u001b[0m\u001b[0;34m\u001b[0m\u001b[0;34m\u001b[0m\u001b[0m\n",
      "\u001b[0;32m/usr/local/Cellar/python/3.7.2_2/Frameworks/Python.framework/Versions/3.7/lib/python3.7/urllib/request.py\u001b[0m in \u001b[0;36m_call_chain\u001b[0;34m(self, chain, kind, meth_name, *args)\u001b[0m\n\u001b[1;32m    501\u001b[0m         \u001b[0;32mfor\u001b[0m \u001b[0mhandler\u001b[0m \u001b[0;32min\u001b[0m \u001b[0mhandlers\u001b[0m\u001b[0;34m:\u001b[0m\u001b[0;34m\u001b[0m\u001b[0;34m\u001b[0m\u001b[0m\n\u001b[1;32m    502\u001b[0m             \u001b[0mfunc\u001b[0m \u001b[0;34m=\u001b[0m \u001b[0mgetattr\u001b[0m\u001b[0;34m(\u001b[0m\u001b[0mhandler\u001b[0m\u001b[0;34m,\u001b[0m \u001b[0mmeth_name\u001b[0m\u001b[0;34m)\u001b[0m\u001b[0;34m\u001b[0m\u001b[0;34m\u001b[0m\u001b[0m\n\u001b[0;32m--> 503\u001b[0;31m             \u001b[0mresult\u001b[0m \u001b[0;34m=\u001b[0m \u001b[0mfunc\u001b[0m\u001b[0;34m(\u001b[0m\u001b[0;34m*\u001b[0m\u001b[0margs\u001b[0m\u001b[0;34m)\u001b[0m\u001b[0;34m\u001b[0m\u001b[0;34m\u001b[0m\u001b[0m\n\u001b[0m\u001b[1;32m    504\u001b[0m             \u001b[0;32mif\u001b[0m \u001b[0mresult\u001b[0m \u001b[0;32mis\u001b[0m \u001b[0;32mnot\u001b[0m \u001b[0;32mNone\u001b[0m\u001b[0;34m:\u001b[0m\u001b[0;34m\u001b[0m\u001b[0;34m\u001b[0m\u001b[0m\n\u001b[1;32m    505\u001b[0m                 \u001b[0;32mreturn\u001b[0m \u001b[0mresult\u001b[0m\u001b[0;34m\u001b[0m\u001b[0;34m\u001b[0m\u001b[0m\n",
      "\u001b[0;32m/usr/local/Cellar/python/3.7.2_2/Frameworks/Python.framework/Versions/3.7/lib/python3.7/urllib/request.py\u001b[0m in \u001b[0;36mhttp_error_default\u001b[0;34m(self, req, fp, code, msg, hdrs)\u001b[0m\n\u001b[1;32m    647\u001b[0m \u001b[0;32mclass\u001b[0m \u001b[0mHTTPDefaultErrorHandler\u001b[0m\u001b[0;34m(\u001b[0m\u001b[0mBaseHandler\u001b[0m\u001b[0;34m)\u001b[0m\u001b[0;34m:\u001b[0m\u001b[0;34m\u001b[0m\u001b[0;34m\u001b[0m\u001b[0m\n\u001b[1;32m    648\u001b[0m     \u001b[0;32mdef\u001b[0m \u001b[0mhttp_error_default\u001b[0m\u001b[0;34m(\u001b[0m\u001b[0mself\u001b[0m\u001b[0;34m,\u001b[0m \u001b[0mreq\u001b[0m\u001b[0;34m,\u001b[0m \u001b[0mfp\u001b[0m\u001b[0;34m,\u001b[0m \u001b[0mcode\u001b[0m\u001b[0;34m,\u001b[0m \u001b[0mmsg\u001b[0m\u001b[0;34m,\u001b[0m \u001b[0mhdrs\u001b[0m\u001b[0;34m)\u001b[0m\u001b[0;34m:\u001b[0m\u001b[0;34m\u001b[0m\u001b[0;34m\u001b[0m\u001b[0m\n\u001b[0;32m--> 649\u001b[0;31m         \u001b[0;32mraise\u001b[0m \u001b[0mHTTPError\u001b[0m\u001b[0;34m(\u001b[0m\u001b[0mreq\u001b[0m\u001b[0;34m.\u001b[0m\u001b[0mfull_url\u001b[0m\u001b[0;34m,\u001b[0m \u001b[0mcode\u001b[0m\u001b[0;34m,\u001b[0m \u001b[0mmsg\u001b[0m\u001b[0;34m,\u001b[0m \u001b[0mhdrs\u001b[0m\u001b[0;34m,\u001b[0m \u001b[0mfp\u001b[0m\u001b[0;34m)\u001b[0m\u001b[0;34m\u001b[0m\u001b[0;34m\u001b[0m\u001b[0m\n\u001b[0m\u001b[1;32m    650\u001b[0m \u001b[0;34m\u001b[0m\u001b[0m\n\u001b[1;32m    651\u001b[0m \u001b[0;32mclass\u001b[0m \u001b[0mHTTPRedirectHandler\u001b[0m\u001b[0;34m(\u001b[0m\u001b[0mBaseHandler\u001b[0m\u001b[0;34m)\u001b[0m\u001b[0;34m:\u001b[0m\u001b[0;34m\u001b[0m\u001b[0;34m\u001b[0m\u001b[0m\n",
      "\u001b[0;31mHTTPError\u001b[0m: HTTP Error 403: Forbidden"
     ]
    }
   ],
   "source": [
    "import urllib.request,json\n",
    "data=json.loads(urllib.request.urlopen(\"http://api.giphy.com/v1/gifs/search?q=cheeseburgers&api_key=API_KEY&limit=5\").read())\n",
    "print(json.dumps(data, sort_keys=True, indent=4))"
   ]
  },
  {
   "cell_type": "code",
   "execution_count": null,
   "metadata": {},
   "outputs": [],
   "source": []
  }
 ],
 "metadata": {
  "kernelspec": {
   "display_name": "Python 3",
   "language": "python",
   "name": "python3"
  },
  "language_info": {
   "codemirror_mode": {
    "name": "ipython",
    "version": 3
   },
   "file_extension": ".py",
   "mimetype": "text/x-python",
   "name": "python",
   "nbconvert_exporter": "python",
   "pygments_lexer": "ipython3",
   "version": "3.7.2"
  }
 },
 "nbformat": 4,
 "nbformat_minor": 2
}
